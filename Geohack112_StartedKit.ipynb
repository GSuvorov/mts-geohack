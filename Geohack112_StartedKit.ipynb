{
 "cells": [
  {
   "cell_type": "markdown",
   "metadata": {},
   "source": [
    "# МТС Geohack.112"
   ]
  },
  {
   "cell_type": "markdown",
   "metadata": {},
   "source": [
    "## Данные\n",
    "\n",
    "В таблице `zones.csv` записаны квадраты, примерный размер — 500х500 метров. Все квадраты расположены в Москве, либо на небольшом расстоянии от Москвы. Квадрат задается координатами нижнего левого угла `(lat_bl, lon_bl)` и верхнего правого `(lat_tr, lon_tr)`. В колонках `(lat_c, lon_c)` — координаты центра квадрата.\n",
    "\n",
    "\n",
    "Квадраты, расположенные в западной части выборки, предназначены для обучения модели — для этих квадратов известно **среднее число вызовов экстренных служб** из квадрата в день:\n",
    "- `calls_daily`: по всем дням\n",
    "- `calls_workday`: по рабочим дням\n",
    "- `calls_weekend`: по выходным дням\n",
    "- `calls_wd{D}`: по дню недели `D` (0 — понедельник, 6 — воскресенье)\n",
    "\n",
    "На квадратах из восточной части выборки необходимо построить прогноз числа вызовов по всем дням недели. Оцениваться качество предсказания будет не по всем квадратам, а по подмножеству, в которое **не** входят квадраты, вызовы из которых поступают крайне редко. Подмножество **целевых** квадратов имеет `is_target=1` в таблице. Для тестовых квадратов значения `calls_*` и `is_target` скрыты.\n",
    "\n",
    "\n",
    "На карте обозначены квадраты трех типов:\n",
    "- <span style=\"color: green;\">Зеленые</span> — из обучающей части, не целевые\n",
    "- <span style=\"color: red;\">Красные</span> — из обучающей части, целевые\n",
    "- <span style=\"color: blue;\">Синие</span> — тестовые, на них необходимо построить прогноз\n",
    "\n",
    "\n",
    "<img src=\"geohack_zones.png\" width=\"300\">"
   ]
  },
  {
   "cell_type": "code",
   "execution_count": 1,
   "metadata": {},
   "outputs": [
    {
     "data": {
      "text/html": [
       "<div>\n",
       "<style>\n",
       "    .dataframe thead tr:only-child th {\n",
       "        text-align: right;\n",
       "    }\n",
       "\n",
       "    .dataframe thead th {\n",
       "        text-align: left;\n",
       "    }\n",
       "\n",
       "    .dataframe tbody tr th {\n",
       "        vertical-align: top;\n",
       "    }\n",
       "</style>\n",
       "<table border=\"1\" class=\"dataframe\">\n",
       "  <thead>\n",
       "    <tr style=\"text-align: right;\">\n",
       "      <th></th>\n",
       "      <th>lat_bl</th>\n",
       "      <th>lon_bl</th>\n",
       "      <th>lat_tr</th>\n",
       "      <th>lon_tr</th>\n",
       "      <th>lat_c</th>\n",
       "      <th>lon_c</th>\n",
       "      <th>is_test</th>\n",
       "      <th>is_target</th>\n",
       "      <th>calls_daily</th>\n",
       "      <th>calls_workday</th>\n",
       "      <th>calls_weekend</th>\n",
       "      <th>calls_wd0</th>\n",
       "      <th>calls_wd1</th>\n",
       "      <th>calls_wd2</th>\n",
       "      <th>calls_wd3</th>\n",
       "      <th>calls_wd4</th>\n",
       "      <th>calls_wd5</th>\n",
       "      <th>calls_wd6</th>\n",
       "    </tr>\n",
       "    <tr>\n",
       "      <th>zone_id</th>\n",
       "      <th></th>\n",
       "      <th></th>\n",
       "      <th></th>\n",
       "      <th></th>\n",
       "      <th></th>\n",
       "      <th></th>\n",
       "      <th></th>\n",
       "      <th></th>\n",
       "      <th></th>\n",
       "      <th></th>\n",
       "      <th></th>\n",
       "      <th></th>\n",
       "      <th></th>\n",
       "      <th></th>\n",
       "      <th></th>\n",
       "      <th></th>\n",
       "      <th></th>\n",
       "      <th></th>\n",
       "    </tr>\n",
       "  </thead>\n",
       "  <tbody>\n",
       "    <tr>\n",
       "      <th>0</th>\n",
       "      <td>55.378220</td>\n",
       "      <td>36.999105</td>\n",
       "      <td>55.382744</td>\n",
       "      <td>37.007050</td>\n",
       "      <td>55.380482</td>\n",
       "      <td>37.003077</td>\n",
       "      <td>0</td>\n",
       "      <td>0.0</td>\n",
       "      <td>0.002177</td>\n",
       "      <td>0.001325</td>\n",
       "      <td>0.004213</td>\n",
       "      <td>0.003006</td>\n",
       "      <td>0.000000e+00</td>\n",
       "      <td>6.885802e-04</td>\n",
       "      <td>0.003006</td>\n",
       "      <td>0.000000e+00</td>\n",
       "      <td>0.001374</td>\n",
       "      <td>0.007052</td>\n",
       "    </tr>\n",
       "    <tr>\n",
       "      <th>1</th>\n",
       "      <td>55.378252</td>\n",
       "      <td>37.006994</td>\n",
       "      <td>55.382775</td>\n",
       "      <td>37.014938</td>\n",
       "      <td>55.380514</td>\n",
       "      <td>37.010966</td>\n",
       "      <td>0</td>\n",
       "      <td>0.0</td>\n",
       "      <td>0.000996</td>\n",
       "      <td>0.000535</td>\n",
       "      <td>0.002096</td>\n",
       "      <td>0.000765</td>\n",
       "      <td>0.000000e+00</td>\n",
       "      <td>1.176913e-03</td>\n",
       "      <td>0.000765</td>\n",
       "      <td>0.000000e+00</td>\n",
       "      <td>0.001374</td>\n",
       "      <td>0.002818</td>\n",
       "    </tr>\n",
       "    <tr>\n",
       "      <th>2</th>\n",
       "      <td>55.378284</td>\n",
       "      <td>37.014883</td>\n",
       "      <td>55.382806</td>\n",
       "      <td>37.022827</td>\n",
       "      <td>55.380545</td>\n",
       "      <td>37.018855</td>\n",
       "      <td>0</td>\n",
       "      <td>0.0</td>\n",
       "      <td>0.001284</td>\n",
       "      <td>0.000724</td>\n",
       "      <td>0.002622</td>\n",
       "      <td>0.001322</td>\n",
       "      <td>0.000000e+00</td>\n",
       "      <td>1.020885e-03</td>\n",
       "      <td>0.001322</td>\n",
       "      <td>0.000000e+00</td>\n",
       "      <td>0.001374</td>\n",
       "      <td>0.003871</td>\n",
       "    </tr>\n",
       "    <tr>\n",
       "      <th>3</th>\n",
       "      <td>55.378315</td>\n",
       "      <td>37.022772</td>\n",
       "      <td>55.382837</td>\n",
       "      <td>37.030715</td>\n",
       "      <td>55.380576</td>\n",
       "      <td>37.026744</td>\n",
       "      <td>0</td>\n",
       "      <td>0.0</td>\n",
       "      <td>0.000968</td>\n",
       "      <td>0.000476</td>\n",
       "      <td>0.002143</td>\n",
       "      <td>0.000815</td>\n",
       "      <td>0.000000e+00</td>\n",
       "      <td>7.802124e-04</td>\n",
       "      <td>0.000815</td>\n",
       "      <td>0.000000e+00</td>\n",
       "      <td>0.001374</td>\n",
       "      <td>0.002912</td>\n",
       "    </tr>\n",
       "    <tr>\n",
       "      <th>4</th>\n",
       "      <td>55.378345</td>\n",
       "      <td>37.030662</td>\n",
       "      <td>55.382867</td>\n",
       "      <td>37.038603</td>\n",
       "      <td>55.380606</td>\n",
       "      <td>37.034633</td>\n",
       "      <td>0</td>\n",
       "      <td>0.0</td>\n",
       "      <td>0.000842</td>\n",
       "      <td>0.000310</td>\n",
       "      <td>0.002113</td>\n",
       "      <td>0.000783</td>\n",
       "      <td>1.821651e-07</td>\n",
       "      <td>7.286604e-07</td>\n",
       "      <td>0.000782</td>\n",
       "      <td>8.602241e-07</td>\n",
       "      <td>0.001374</td>\n",
       "      <td>0.002851</td>\n",
       "    </tr>\n",
       "  </tbody>\n",
       "</table>\n",
       "</div>"
      ],
      "text/plain": [
       "            lat_bl     lon_bl     lat_tr     lon_tr      lat_c      lon_c  \\\n",
       "zone_id                                                                     \n",
       "0        55.378220  36.999105  55.382744  37.007050  55.380482  37.003077   \n",
       "1        55.378252  37.006994  55.382775  37.014938  55.380514  37.010966   \n",
       "2        55.378284  37.014883  55.382806  37.022827  55.380545  37.018855   \n",
       "3        55.378315  37.022772  55.382837  37.030715  55.380576  37.026744   \n",
       "4        55.378345  37.030662  55.382867  37.038603  55.380606  37.034633   \n",
       "\n",
       "         is_test  is_target  calls_daily  calls_workday  calls_weekend  \\\n",
       "zone_id                                                                  \n",
       "0              0        0.0     0.002177       0.001325       0.004213   \n",
       "1              0        0.0     0.000996       0.000535       0.002096   \n",
       "2              0        0.0     0.001284       0.000724       0.002622   \n",
       "3              0        0.0     0.000968       0.000476       0.002143   \n",
       "4              0        0.0     0.000842       0.000310       0.002113   \n",
       "\n",
       "         calls_wd0     calls_wd1     calls_wd2  calls_wd3     calls_wd4  \\\n",
       "zone_id                                                                   \n",
       "0         0.003006  0.000000e+00  6.885802e-04   0.003006  0.000000e+00   \n",
       "1         0.000765  0.000000e+00  1.176913e-03   0.000765  0.000000e+00   \n",
       "2         0.001322  0.000000e+00  1.020885e-03   0.001322  0.000000e+00   \n",
       "3         0.000815  0.000000e+00  7.802124e-04   0.000815  0.000000e+00   \n",
       "4         0.000783  1.821651e-07  7.286604e-07   0.000782  8.602241e-07   \n",
       "\n",
       "         calls_wd5  calls_wd6  \n",
       "zone_id                        \n",
       "0         0.001374   0.007052  \n",
       "1         0.001374   0.002818  \n",
       "2         0.001374   0.003871  \n",
       "3         0.001374   0.002912  \n",
       "4         0.001374   0.002851  "
      ]
     },
     "execution_count": 1,
     "metadata": {},
     "output_type": "execute_result"
    }
   ],
   "source": [
    "import pandas\n",
    "\n",
    "df_zones = pandas.read_csv('data/zones.csv', index_col='zone_id')\n",
    "df_zones.head()"
   ]
  },
  {
   "cell_type": "markdown",
   "metadata": {},
   "source": [
    "## Оценка качества\n",
    "\n",
    "В качестве решения необходимо предоставить CSV таблицу с предсказаниями для всех тестовых квадратов, для каждого квадрата — по всем дням недели.\n",
    "\n",
    "|zone_id|calls_wd0|calls_wd1|calls_wd2|calls_wd3|calls_wd4|calls_wd5|calls_wd6|\n",
    "|-------|---------|---------|---------|---------|---------|---------|---------|\n",
    "| 79    | 0.825861| 0.670869|0.786908 | 0.598091| 1.247591| 0.675773| 0.633927|\n",
    "| ...   | ... ||\n",
    "\n",
    "Качество оценивается только по подмножеству **целевых** квадратов. Участникам неизвестно, какие из квадратов целевые, однако принцип выбора целевых квадратов в обучающей и тестовой части — идентичен. \n",
    "\n",
    "Во время соревнования качество оценивается на 30% тестовых целевых квадратов (выбраны случайно), в конце соревнования итоги подводятся по оставшимся 70% квадратов.\n",
    "\n",
    "Метрика качества предсказаний — коэффициент ранговой корреляции Кендалла ([Kendall's tau](https://en.wikipedia.org/wiki/Kendall_rank_correlation_coefficient)), считается как доля пар объектов с неправильно упорядоченными предсказаниями:\n",
    "\n",
    "$$\\text{Kendall-}\\tau = \\frac{1}{n(n-1)} \\sum_{i \\neq j} \\text{sgn}(y_i-y_j) \\cdot \\text{sgn}(\\hat{y_j}-\\hat{y_j})$$\n",
    "\n",
    "Метрика оценивает порядок, в котором предсказания соотносятся друг с другом, а не их точные значения. Разные дни недели считаются независимыми элементами выборки, т.е. коэффициент корреляции считается по предсказаниям для всех тестовых пар `(zone_id, день недели)` (см. далее пример оценки качества на валидации).\n",
    "\n",
    "В тестирующей системе используется реализация Kendall's tau из пакета SciPy: [`scipy.stats.kendalltau`](https://docs.scipy.org/doc/scipy-0.19.1/reference/generated/scipy.stats.kendalltau.html)."
   ]
  },
  {
   "cell_type": "markdown",
   "metadata": {},
   "source": [
    "## Работа с данными OpenStreetMap\n",
    "\n",
    "Организаторы не предоставляют никакой содержательной информации о квадратах (за исключением координат). Участникам необходимо самостоятельно искать информацию для предсказания из внешних источников. Разрешено использовать все публично доступные наборы данных, допускающие использование в соревновании, после того как этот набор данных был публично опубликован на форуме.\n",
    "\n",
    "В качестве примера покажем, как можно построить признаковое описание квадратов на основе карты [OpenStreetMap](https://en.wikipedia.org/wiki/OpenStreetMap)."
   ]
  },
  {
   "cell_type": "markdown",
   "metadata": {},
   "source": [
    "Актуальную выгрузку данных OpenStreetMap можно взять с сайта [GIS-Lab.info](http://gis-lab.info/projects/osm_dump/). Данные распространяются по лицензии [ODbL](https://wiki.openstreetmap.org/wiki/Open_Database_License), допускающей свободное использование при условии указания в явном виде источника: «© участники OpenStreetMap».\n",
    "\n",
    "Загрузите файл [RU-MOS.osm.pbf](http://data.gis-lab.info/osm_dump/dump/latest/RU-MOS.osm.pbf) — это выгрузка карты по Московской области в компактном формате `osm.pbf`. Для чтения этих данных есть простая библиотека [`osmread`](https://pypi.python.org/pypi/osmread).\n",
    "\n",
    "Карта OSM представляет собой набор [элементов](https://wiki.openstreetmap.org/wiki/Elements) трех видов:\n",
    "1. **Node**: точки на карте\n",
    "2. **Way**: дороги, площади, задаются набором точек\n",
    "3. **Relation**: связи между элементами, например объединение дороги из нескольких частей\n",
    "\n",
    "Элементы могут иметь набор тегов — пар ключ-значение."
   ]
  },
  {
   "cell_type": "markdown",
   "metadata": {},
   "source": [
    "##### Прочитаем только точки имеющие теги из нужного нам региона\n",
    "Чтение может занять 10–30 минут."
   ]
  },
  {
   "cell_type": "code",
   "execution_count": null,
   "metadata": {},
   "outputs": [
    {
     "data": {
      "application/vnd.jupyter.widget-view+json": {
       "model_id": "640bb18d427b4ed6bee315d3f7123cb6",
       "version_major": 2,
       "version_minor": 0
      },
      "text/html": [
       "<p>Failed to display Jupyter Widget of type <code>HBox</code>.</p>\n",
       "<p>\n",
       "  If you're reading this message in the Jupyter Notebook or JupyterLab Notebook, it may mean\n",
       "  that the widgets JavaScript is still loading. If this message persists, it\n",
       "  likely means that the widgets JavaScript library is either not installed or\n",
       "  not enabled. See the <a href=\"https://ipywidgets.readthedocs.io/en/stable/user_install.html\">Jupyter\n",
       "  Widgets Documentation</a> for setup instructions.\n",
       "</p>\n",
       "<p>\n",
       "  If you're reading this message in another frontend (for example, a static\n",
       "  rendering on GitHub or <a href=\"https://nbviewer.jupyter.org/\">NBViewer</a>),\n",
       "  it may mean that your frontend doesn't currently support widgets.\n",
       "</p>\n"
      ],
      "text/plain": [
       "HBox(children=(IntProgress(value=0, max=18976998), HTML(value='')))"
      ]
     },
     "metadata": {},
     "output_type": "display_data"
    }
   ],
   "source": [
    "%%time\n",
    "\n",
    "import osmread\n",
    "from tqdm import tqdm_notebook\n",
    "\n",
    "LAT_MIN, LAT_MAX = 55.309397, 56.13526\n",
    "LON_MIN, LON_MAX = 36.770379, 38.19270\n",
    "\n",
    "osm_file = osmread.parse_file('osm/RU-MOS.osm.pbf')\n",
    "tagged_nodes = [\n",
    "    entry\n",
    "    for entry in tqdm_notebook(osm_file, total=18976998)\n",
    "    if isinstance(entry, osmread.Node)\n",
    "    if len(entry.tags) > 0\n",
    "    if (LAT_MIN < entry.lat < LAT_MAX) and (LON_MIN < entry.lon < LON_MAX)\n",
    "]"
   ]
  },
  {
   "cell_type": "code",
   "execution_count": null,
   "metadata": {},
   "outputs": [],
   "source": [
    "import pickle\n",
    "\n",
    "with open('data/tagged_nodes.pickle', 'wb') as fout:\n",
    "    pickle.dump(tagged_nodes, fout, protocol=pickle.HIGHEST_PROTOCOL)"
   ]
  },
  {
   "cell_type": "markdown",
   "metadata": {},
   "source": [
    "##### Пример точки"
   ]
  },
  {
   "cell_type": "code",
   "execution_count": null,
   "metadata": {},
   "outputs": [],
   "source": [
    "tagged_nodes[0]"
   ]
  },
  {
   "cell_type": "markdown",
   "metadata": {},
   "source": [
    "## Построение таблицы признаков\n",
    "\n",
    "На основе координат квадратов и данных из OpenStreetMap построим таблицу с простыми признаками, которые можно использовать для предсказания."
   ]
  },
  {
   "cell_type": "code",
   "execution_count": null,
   "metadata": {},
   "outputs": [],
   "source": [
    "import collections \n",
    "\n",
    "df_features = collections.OrderedDict([])"
   ]
  },
  {
   "cell_type": "markdown",
   "metadata": {},
   "source": [
    "##### Расстояние до Кремля"
   ]
  },
  {
   "cell_type": "code",
   "execution_count": null,
   "metadata": {},
   "outputs": [],
   "source": [
    "import math\n",
    "\n",
    "kremlin_lat, kremlin_lon = 55.753722, 37.620657\n",
    "\n",
    "def dist_calc(lat1, lon1, lat2, lon2):\n",
    "    R = 6373.0\n",
    "\n",
    "    lat1 = math.radians(lat1)\n",
    "    lon1 = math.radians(lon1)\n",
    "    lat2 = math.radians(lat2)\n",
    "    lon2 = math.radians(lon2)\n",
    "\n",
    "    dlon = lon2 - lon1\n",
    "    dlat = lat2 - lat1\n",
    "\n",
    "    a = math.sin(dlat / 2)**2 + math.cos(lat1) * math.cos(lat2) * math.sin(dlon / 2)**2\n",
    "    c = 2 * math.atan2(math.sqrt(a), math.sqrt(1 - a))\n",
    "\n",
    "    return R * c\n",
    "\n",
    "df_features['distance_to_kremlin'] = df_zones.apply(\n",
    "    lambda row: dist_calc(row.lat_c, row.lon_c, kremlin_lat, kremlin_lon), axis=1)"
   ]
  },
  {
   "cell_type": "markdown",
   "metadata": {},
   "source": [
    "##### Статистика по точкам из OSM"
   ]
  },
  {
   "cell_type": "code",
   "execution_count": null,
   "metadata": {},
   "outputs": [],
   "source": [
    "import numpy as np\n",
    "from sklearn.neighbors import NearestNeighbors\n",
    "\n",
    "# набор фильтров точек, по которым будет считаться статистика\n",
    "POINT_FEATURE_FILTERS = [\n",
    "    ('tagged', lambda \n",
    "     node: len(node.tags) > 0),\n",
    "    ('railway', lambda node: node.tags.get('railway') == 'station'),\n",
    "    ('shop', lambda node: 'shop' in node.tags),\n",
    "    ('public_transport', lambda node: 'public_transport' in node.tags),\n",
    "]\n",
    "\n",
    "# центры квадратов в виде матрицы\n",
    "X_zone_centers = df_zones[['lat_c', 'lon_c']].as_matrix()\n",
    "\n",
    "for prefix, point_filter in POINT_FEATURE_FILTERS:\n",
    "\n",
    "    # берем подмножество точек в соответствии с фильтром\n",
    "    coords = np.array([\n",
    "        [node.lat, node.lon]\n",
    "        for node in tagged_nodes\n",
    "        if point_filter(node)\n",
    "    ])\n",
    "\n",
    "    # строим структуру данных для быстрого поиска точек\n",
    "    neighbors = NearestNeighbors().fit(coords)\n",
    "    \n",
    "    # признак вида \"количество точек в радиусе R от центра квадрата\"\n",
    "    for radius in [0.001, 0.003, 0.005, 0.007, 0.01]:\n",
    "        dists, inds = neighbors.radius_neighbors(X=X_zone_centers, radius=radius)\n",
    "        df_features['{}_points_in_{}'.format(prefix, radius)] = np.array([len(x) for x in inds])\n",
    "\n",
    "    # признак вида \"расстояние до ближайших K точек\"\n",
    "    for n_neighbors in [3, 5, 10]:\n",
    "        dists, inds = neighbors.kneighbors(X=X_zone_centers, n_neighbors=n_neighbors)\n",
    "        df_features['{}_mean_dist_k_{}'.format(prefix, n_neighbors)] = dists.mean(axis=1)\n",
    "        df_features['{}_max_dist_k_{}'.format(prefix, n_neighbors)] = dists.max(axis=1)\n",
    "        df_features['{}_std_dist_k_{}'.format(prefix, n_neighbors)] = dists.std(axis=1)\n",
    "\n",
    "    # признак вида \"расстояние до ближайшей точки\"\n",
    "    df_features['{}_min'.format(prefix)] = dists.min(axis=1)"
   ]
  },
  {
   "cell_type": "markdown",
   "metadata": {},
   "source": [
    "##### Итоговый набор признаков по квадратам"
   ]
  },
  {
   "cell_type": "code",
   "execution_count": null,
   "metadata": {},
   "outputs": [],
   "source": [
    "df_features = pandas.DataFrame(df_features, index=df_zones.index)\n",
    "df_features.to_csv('data/features.csv')\n",
    "df_features.head()"
   ]
  },
  {
   "cell_type": "markdown",
   "metadata": {},
   "source": [
    "## Предсказание числа вызовов"
   ]
  },
  {
   "cell_type": "markdown",
   "metadata": {},
   "source": [
    "#### Пример случайного разбиения на обучение / валидацию"
   ]
  },
  {
   "cell_type": "code",
   "execution_count": null,
   "metadata": {},
   "outputs": [],
   "source": [
    "from sklearn.model_selection import train_test_split\n",
    "\n",
    "df_zones_train = df_zones.query('is_test == 0 & is_target == 1')\n",
    "idx_train, idx_valid = train_test_split(df_zones_train.index, test_size=0.3)"
   ]
  },
  {
   "cell_type": "markdown",
   "metadata": {},
   "source": [
    "#### Обучение модели\n",
    "\n",
    "Обучаем `RandomForestRegressor` предсказывать среднее дневное число звонков, независимо от дня недели. День недели тем не менее можно учитывать."
   ]
  },
  {
   "cell_type": "code",
   "execution_count": null,
   "metadata": {},
   "outputs": [],
   "source": [
    "from sklearn.ensemble import RandomForestRegressor\n",
    "\n",
    "X_train = df_features.loc[idx_train, :]\n",
    "y_train = df_zones.loc[idx_train, 'calls_daily']\n",
    "\n",
    "model = RandomForestRegressor(n_estimators=100, n_jobs=4)\n",
    "model.fit(X_train, y_train)"
   ]
  },
  {
   "cell_type": "markdown",
   "metadata": {},
   "source": [
    "#### Пример таблицы с предсказаниями (для валидационной выборки)"
   ]
  },
  {
   "cell_type": "code",
   "execution_count": null,
   "metadata": {},
   "outputs": [],
   "source": [
    "from scipy.stats import kendalltau\n",
    "\n",
    "X_valid = df_features.loc[idx_valid, :]\n",
    "y_valid = df_zones.loc[idx_valid, 'calls_daily']\n",
    "y_pred = model.predict(X_valid)\n",
    "\n",
    "target_columns = ['calls_wd{}'.format(d) for d in range(7)]\n",
    "\n",
    "df_valid_target = df_zones.loc[idx_valid, target_columns]\n",
    "df_valid_predictions = pandas.DataFrame(collections.OrderedDict([\n",
    "    (column_name, y_pred)\n",
    "    for column_name in target_columns\n",
    "]), index=idx_valid)"
   ]
  },
  {
   "cell_type": "code",
   "execution_count": null,
   "metadata": {},
   "outputs": [],
   "source": [
    "df_valid_predictions.head()"
   ]
  },
  {
   "cell_type": "markdown",
   "metadata": {},
   "source": [
    "#### Оценка качества предсказаний"
   ]
  },
  {
   "cell_type": "code",
   "execution_count": null,
   "metadata": {},
   "outputs": [],
   "source": [
    "df_comparison = pandas.DataFrame({\n",
    "    'target': df_valid_target.unstack(),\n",
    "    'prediction': df_valid_predictions.unstack(),\n",
    "})\n",
    "\n",
    "valid_score = kendalltau(df_comparison['target'], df_comparison['prediction']).correlation\n",
    "print('Validation score:', valid_score)"
   ]
  },
  {
   "cell_type": "markdown",
   "metadata": {},
   "source": [
    "#### Таблица предсказаний для теста"
   ]
  },
  {
   "cell_type": "code",
   "execution_count": null,
   "metadata": {},
   "outputs": [],
   "source": [
    "idx_test = df_zones.query('is_test == 1').index\n",
    "\n",
    "X_test = df_features.loc[idx_test, :]\n",
    "y_pred = model.predict(X_test)\n",
    "\n",
    "df_test_predictions = pandas.DataFrame(collections.OrderedDict([\n",
    "    (column_name, y_pred)\n",
    "    for column_name in target_columns\n",
    "]), index=idx_test)\n",
    "\n",
    "df_test_predictions.to_csv('data/sample_submission.csv')\n",
    "df_test_predictions.head()"
   ]
  },
  {
   "cell_type": "markdown",
   "metadata": {},
   "source": [
    "## Визуализация объектов на карте\n",
    "\n",
    "Рисовать на карте можно при помощи библиотеки `folium` ([документация](http://python-visualization.github.io/folium/docs-v0.5.0/quickstart.html#Getting-Started)). "
   ]
  },
  {
   "cell_type": "code",
   "execution_count": null,
   "metadata": {},
   "outputs": [],
   "source": [
    "import folium\n",
    "\n",
    "fmap = folium.Map([55.753722, 37.620657])\n",
    "\n",
    "# нанесем ж/д станции\n",
    "for node in tagged_nodes:\n",
    "    if node.tags.get('railway') == 'station':\n",
    "        folium.CircleMarker([node.lat, node.lon], radius=3).add_to(fmap)\n",
    "\n",
    "# выделим квадраты с наибольшим числом вызовов\n",
    "calls_thresh = df_zones.calls_daily.quantile(.99)\n",
    "for _, row in df_zones.query('calls_daily > @calls_thresh').iterrows():\n",
    "    folium.features.RectangleMarker(\n",
    "        bounds=((row.lat_bl, row.lon_bl), (row.lat_tr, row.lon_tr)),\n",
    "        fill_color='red',\n",
    "    ).add_to(fmap)\n",
    "\n",
    "# карту можно сохранить и посмотреть в браузере\n",
    "fmap.save('map_demo.html')\n",
    "\n",
    "fmap"
   ]
  }
 ],
 "metadata": {
  "kernelspec": {
   "display_name": "Python 3",
   "language": "python",
   "name": "python3"
  },
  "language_info": {
   "codemirror_mode": {
    "name": "ipython",
    "version": 3
   },
   "file_extension": ".py",
   "mimetype": "text/x-python",
   "name": "python",
   "nbconvert_exporter": "python",
   "pygments_lexer": "ipython3",
   "version": "3.6.4"
  }
 },
 "nbformat": 4,
 "nbformat_minor": 2
}
